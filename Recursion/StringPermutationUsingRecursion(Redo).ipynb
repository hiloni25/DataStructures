{
 "cells": [
  {
   "cell_type": "markdown",
   "metadata": {},
   "source": [
    "# String Permutation Using Recursion(Need to understand)"
   ]
  },
  {
   "cell_type": "markdown",
   "metadata": {},
   "source": [
    "#Example-\n",
    "given input 'abc' shoul return- ['abc','acb','bac','bca','cab','cba']\n",
    "do not care about duplicate letters(that case can be ignored so no need to handle it)"
   ]
  },
  {
   "cell_type": "markdown",
   "metadata": {},
   "source": [
    "Important Note-\n",
    "\n",
    "Check out itertools library. It is a really helpul tool to perform operations such as permutaions.."
   ]
  },
  {
   "cell_type": "markdown",
   "metadata": {},
   "source": [
    "# Algo-\n",
    "\n",
    "Iterate through the initial string – e.g., ‘abc’.\n",
    "\n",
    "For each character in the initial string, set aside that character and get a list of all permutations of the string that’s left. So, for example, if the current iteration is on 'b', we’d want to find all the permutations of the string 'ac'.\n",
    "\n",
    "Once you have the list from step 2, add each element from that list to the character from the initial string, and append the result to our list of final results. So if we’re on 'b' and we’ve gotten the list ['ac', 'ca'], we’d add 'b' to those, resulting in 'bac' and 'bca', each of which we’d add to our final results.\n",
    "\n",
    "Return the list of final results."
   ]
  },
  {
   "cell_type": "code",
   "execution_count": null,
   "metadata": {},
   "outputs": [],
   "source": [
    "def permute(s):\n",
    "    "
   ]
  },
  {
   "cell_type": "code",
   "execution_count": 16,
   "metadata": {},
   "outputs": [],
   "source": [
    "def permute(s):\n",
    "    out = []\n",
    "    if len(s) == 1:\n",
    "        out = [s]\n",
    "        \n",
    "    else:\n",
    "        #for every letter in string\n",
    "        for i,let in enumerate(s): #take 'a'\n",
    "            print(i,let)\n",
    "            #for every permutaion resulting for step2 and step3\n",
    "            for perm in permute(s[:i] + s[i+1:]): #'bc' iterate till you just get c\n",
    "                print(\"cur \" + let)\n",
    "                print(perm)\n",
    "                out += [let+perm]\n",
    "                print(out)\n",
    "                \n",
    "    return out\n",
    "    \n",
    "    pass"
   ]
  },
  {
   "cell_type": "code",
   "execution_count": 17,
   "metadata": {},
   "outputs": [
    {
     "name": "stdout",
     "output_type": "stream",
     "text": [
      "0 a\n",
      "0 b\n",
      "cur b\n",
      "c\n",
      "['bc']\n",
      "1 c\n",
      "cur c\n",
      "b\n",
      "['bc', 'cb']\n",
      "cur a\n",
      "bc\n",
      "['abc']\n",
      "cur a\n",
      "cb\n",
      "['abc', 'acb']\n",
      "1 b\n",
      "0 a\n",
      "cur a\n",
      "c\n",
      "['ac']\n",
      "1 c\n",
      "cur c\n",
      "a\n",
      "['ac', 'ca']\n",
      "cur b\n",
      "ac\n",
      "['abc', 'acb', 'bac']\n",
      "cur b\n",
      "ca\n",
      "['abc', 'acb', 'bac', 'bca']\n",
      "2 c\n",
      "0 a\n",
      "cur a\n",
      "b\n",
      "['ab']\n",
      "1 b\n",
      "cur b\n",
      "a\n",
      "['ab', 'ba']\n",
      "cur c\n",
      "ab\n",
      "['abc', 'acb', 'bac', 'bca', 'cab']\n",
      "cur c\n",
      "ba\n",
      "['abc', 'acb', 'bac', 'bca', 'cab', 'cba']\n"
     ]
    },
    {
     "data": {
      "text/plain": [
       "['abc', 'acb', 'bac', 'bca', 'cab', 'cba']"
      ]
     },
     "execution_count": 17,
     "metadata": {},
     "output_type": "execute_result"
    }
   ],
   "source": [
    "permute('abc')"
   ]
  },
  {
   "cell_type": "code",
   "execution_count": null,
   "metadata": {},
   "outputs": [],
   "source": []
  }
 ],
 "metadata": {
  "kernelspec": {
   "display_name": "Python 3",
   "language": "python",
   "name": "python3"
  },
  "language_info": {
   "codemirror_mode": {
    "name": "ipython",
    "version": 3
   },
   "file_extension": ".py",
   "mimetype": "text/x-python",
   "name": "python",
   "nbconvert_exporter": "python",
   "pygments_lexer": "ipython3",
   "version": "3.7.3"
  }
 },
 "nbformat": 4,
 "nbformat_minor": 2
}
