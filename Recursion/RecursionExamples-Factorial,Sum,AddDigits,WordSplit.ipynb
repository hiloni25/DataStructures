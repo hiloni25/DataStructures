{
 "cells": [
  {
   "cell_type": "markdown",
   "metadata": {},
   "source": [
    "#Recursion-\n",
    "#Two main Instances-\n",
    "1. Technique in which a function makes one or more calls to itself\n",
    "2. When data structures uses smaller instances of the exact same type of data structure when it represent itself"
   ]
  },
  {
   "cell_type": "markdown",
   "metadata": {},
   "source": [
    "#Factorial (n! = n*(n-1)*(n-2)*...*1)\n",
    "Base case- if n=0, n! = 1"
   ]
  },
  {
   "cell_type": "code",
   "execution_count": 3,
   "metadata": {},
   "outputs": [],
   "source": [
    "def fact(n):\n",
    "    if n == 0: #Base case\n",
    "        return 1\n",
    "    \n",
    "    else:\n",
    "        return n*fact(n-1)\n",
    "    "
   ]
  },
  {
   "cell_type": "code",
   "execution_count": 4,
   "metadata": {},
   "outputs": [
    {
     "name": "stdout",
     "output_type": "stream",
     "text": [
      "en\n"
     ]
    },
    {
     "data": {
      "text/plain": [
       "120"
      ]
     },
     "execution_count": 4,
     "metadata": {},
     "output_type": "execute_result"
    }
   ],
   "source": [
    "fact(5)"
   ]
  },
  {
   "cell_type": "code",
   "execution_count": 15,
   "metadata": {},
   "outputs": [],
   "source": [
    "def rec_sum(n):\n",
    "    if(n == 0):\n",
    "        return 0\n",
    "    else:\n",
    "        return n + rec_sum(n-1)"
   ]
  },
  {
   "cell_type": "code",
   "execution_count": 16,
   "metadata": {},
   "outputs": [
    {
     "data": {
      "text/plain": [
       "10"
      ]
     },
     "execution_count": 16,
     "metadata": {},
     "output_type": "execute_result"
    }
   ],
   "source": [
    "rec_sum(4)"
   ]
  },
  {
   "cell_type": "code",
   "execution_count": 21,
   "metadata": {},
   "outputs": [],
   "source": [
    "def sum_func(n): #My method\n",
    "    dig = n%10\n",
    "    if(n == 0):\n",
    "        return 0\n",
    "    else:\n",
    "        n = n//10\n",
    "        return dig+sum_func(n)\n",
    "    \n",
    "    "
   ]
  },
  {
   "cell_type": "code",
   "execution_count": null,
   "metadata": {},
   "outputs": [],
   "source": [
    "def sum_func(n): #Course Method\n",
    "    if (len(str(n)) == 1):\n",
    "        return n\n",
    "    \n",
    "    else:\n",
    "        return n%10 + sum_fact(n/10)"
   ]
  },
  {
   "cell_type": "code",
   "execution_count": 24,
   "metadata": {},
   "outputs": [
    {
     "data": {
      "text/plain": [
       "10"
      ]
     },
     "execution_count": 24,
     "metadata": {},
     "output_type": "execute_result"
    }
   ],
   "source": [
    "sum_func(4321)"
   ]
  },
  {
   "cell_type": "code",
   "execution_count": 27,
   "metadata": {},
   "outputs": [],
   "source": [
    "def word_split(phrase, list_of_words, output=None):\n",
    "    if output == None:\n",
    "        output = []\n",
    "        \n",
    "    for word in list_of_words:\n",
    "        if(phrase.startswith(word)):\n",
    "            output.append(word)\n",
    "            \n",
    "            return word_split(phrase[len(word):],list_of_words,output)\n",
    "        \n",
    "    return output\n",
    "   "
   ]
  },
  {
   "cell_type": "code",
   "execution_count": 29,
   "metadata": {},
   "outputs": [
    {
     "name": "stdout",
     "output_type": "stream",
     "text": [
      "['the', 'man', 'ran']\n",
      "['i', 'love', 'dogs', 'John']\n",
      "[]\n"
     ]
    }
   ],
   "source": [
    "print(word_split('themanran',['the','ran','man']))\n",
    "print(word_split('ilovedogsJohn',['i','am','a','dogs','lover','love','John']))\n",
    "print(word_split('themanran',['clown','ran','man']))"
   ]
  },
  {
   "cell_type": "code",
   "execution_count": null,
   "metadata": {},
   "outputs": [],
   "source": []
  }
 ],
 "metadata": {
  "kernelspec": {
   "display_name": "Python 3",
   "language": "python",
   "name": "python3"
  },
  "language_info": {
   "codemirror_mode": {
    "name": "ipython",
    "version": 3
   },
   "file_extension": ".py",
   "mimetype": "text/x-python",
   "name": "python",
   "nbconvert_exporter": "python",
   "pygments_lexer": "ipython3",
   "version": "3.7.3"
  }
 },
 "nbformat": 4,
 "nbformat_minor": 2
}
