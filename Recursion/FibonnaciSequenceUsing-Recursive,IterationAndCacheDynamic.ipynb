{
 "cells": [
  {
   "cell_type": "markdown",
   "metadata": {},
   "source": [
    "# Fibonacci Sequence-\n",
    "if n= 0 or n=1, return n(base case) else fib(n-1) + fib(n-2)"
   ]
  },
  {
   "cell_type": "code",
   "execution_count": 19,
   "metadata": {},
   "outputs": [],
   "source": [
    "def fib_rec(n):\n",
    "    if(n == 0 or n == 1):\n",
    "        return n\n",
    "    else:\n",
    "        return fib_rec(n-1)+fib_rec(n-2)\n",
    "    "
   ]
  },
  {
   "cell_type": "code",
   "execution_count": 21,
   "metadata": {},
   "outputs": [
    {
     "data": {
      "text/plain": [
       "55"
      ]
     },
     "execution_count": 21,
     "metadata": {},
     "output_type": "execute_result"
    }
   ],
   "source": [
    "fib_rec(10)"
   ]
  },
  {
   "cell_type": "code",
   "execution_count": 44,
   "metadata": {},
   "outputs": [],
   "source": [
    "#Instantiate Cache information(Memoization)-\n",
    "n = 10\n",
    "cache = [None] * (n+1)\n",
    "\n",
    "def fib_dyn(n):\n",
    "    #Base Case\n",
    "    if n==0 or n==1:\n",
    "        return n\n",
    "    \n",
    "    #Check cache\n",
    "    if cache[n] != None:\n",
    "        return cache[n]\n",
    "    \n",
    "    #Keep Setting Cache\n",
    "    cache[n] = fib_dyn(n-1) + fib_dyn(n-2) #More like recursive case but checking my cache first\n",
    "    \n",
    "    return cache[n]\n",
    "    pass"
   ]
  },
  {
   "cell_type": "code",
   "execution_count": 47,
   "metadata": {},
   "outputs": [
    {
     "data": {
      "text/plain": [
       "55"
      ]
     },
     "execution_count": 47,
     "metadata": {},
     "output_type": "execute_result"
    }
   ],
   "source": [
    "fib_dyn(10)"
   ]
  },
  {
   "cell_type": "code",
   "execution_count": 40,
   "metadata": {},
   "outputs": [],
   "source": [
    "#Iteratively-\n",
    "def fib_iter(n): #My method\n",
    "    prev2 = 0\n",
    "    prev1 = 1\n",
    "    for i in range(2,n+1):\n",
    "        out = prev2 + prev1\n",
    "        prev2 = prev1\n",
    "        prev1 = out\n",
    "         \n",
    "    return out\n",
    "\n",
    "def fib_iter(n): #Couse Method\n",
    "    \n",
    "    a,b = 0,1\n",
    "    \n",
    "    for i in range(n):\n",
    "        a,b = b,a+b\n",
    "        \n",
    "    return a\n",
    "        \n",
    "    "
   ]
  },
  {
   "cell_type": "code",
   "execution_count": 41,
   "metadata": {},
   "outputs": [
    {
     "data": {
      "text/plain": [
       "55"
      ]
     },
     "execution_count": 41,
     "metadata": {},
     "output_type": "execute_result"
    }
   ],
   "source": [
    "fib_iter(10)"
   ]
  },
  {
   "cell_type": "code",
   "execution_count": null,
   "metadata": {},
   "outputs": [],
   "source": []
  }
 ],
 "metadata": {
  "kernelspec": {
   "display_name": "Python 3",
   "language": "python",
   "name": "python3"
  },
  "language_info": {
   "codemirror_mode": {
    "name": "ipython",
    "version": 3
   },
   "file_extension": ".py",
   "mimetype": "text/x-python",
   "name": "python",
   "nbconvert_exporter": "python",
   "pygments_lexer": "ipython3",
   "version": "3.7.3"
  }
 },
 "nbformat": 4,
 "nbformat_minor": 2
}
