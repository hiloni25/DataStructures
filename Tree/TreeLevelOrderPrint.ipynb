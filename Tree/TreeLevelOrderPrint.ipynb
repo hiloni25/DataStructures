{
 "cells": [
  {
   "cell_type": "code",
   "execution_count": null,
   "metadata": {},
   "outputs": [],
   "source": [
    "#Tree Level Order Print"
   ]
  },
  {
   "cell_type": "code",
   "execution_count": null,
   "metadata": {},
   "outputs": [],
   "source": [
    "#Given a binary tree of integers, print it in level order. \n",
    "#Output contains space between numbers in the same level, and new line between different levels."
   ]
  },
  {
   "cell_type": "code",
   "execution_count": 6,
   "metadata": {},
   "outputs": [],
   "source": [
    "class Node:\n",
    "    def __init__(self, val=None):\n",
    "        self.left = None\n",
    "        self.right = None\n",
    "        self.val = val"
   ]
  },
  {
   "cell_type": "code",
   "execution_count": 1,
   "metadata": {},
   "outputs": [],
   "source": [
    "#import collections\n",
    "\n",
    "#d = collections.deque([1,2,3])"
   ]
  },
  {
   "cell_type": "code",
   "execution_count": null,
   "metadata": {},
   "outputs": [],
   "source": [
    "#d.(press tab to see all the available methods)"
   ]
  },
  {
   "cell_type": "code",
   "execution_count": 8,
   "metadata": {},
   "outputs": [],
   "source": [
    "import collections\n",
    "def levelOrderPrint(tree):\n",
    "    \n",
    "    if not tree:\n",
    "        return \n",
    "    \n",
    "    nodes = collections.deque([tree])\n",
    "    \n",
    "    currentCount = 1\n",
    "    nextCount = 0\n",
    "    \n",
    "    while len(nodes) != 0:\n",
    "        \n",
    "        currentNode = nodes.popleft() #deque allows to remove from both end\n",
    "        currentCount -= 1\n",
    "        \n",
    "        print(currentNode.val)\n",
    "        \n",
    "        if currentNode.left:\n",
    "            nodes.append(currentNode.left)\n",
    "            nextCount += 1\n",
    "            \n",
    "        if currentNode.right:\n",
    "            nodes.append(currentNode.right)\n",
    "            nextCount += 1\n",
    "            \n",
    "        if currentCount == 0:\n",
    "            print('\\n')\n",
    "            currentCount,nextCount = nextCount,currentCount\n",
    "    \n",
    "    \n",
    "    pass"
   ]
  },
  {
   "cell_type": "code",
   "execution_count": 9,
   "metadata": {},
   "outputs": [],
   "source": [
    "root = Node(1)\n",
    "\n",
    "root.left = Node(2)\n",
    "root.right = Node(3)"
   ]
  },
  {
   "cell_type": "code",
   "execution_count": 11,
   "metadata": {},
   "outputs": [
    {
     "name": "stdout",
     "output_type": "stream",
     "text": [
      "1\n",
      "\n",
      "\n",
      "2\n",
      "3\n",
      "\n",
      "\n"
     ]
    }
   ],
   "source": [
    "levelOrderPrint(root)"
   ]
  },
  {
   "cell_type": "code",
   "execution_count": null,
   "metadata": {},
   "outputs": [],
   "source": []
  }
 ],
 "metadata": {
  "kernelspec": {
   "display_name": "Python 3",
   "language": "python",
   "name": "python3"
  },
  "language_info": {
   "codemirror_mode": {
    "name": "ipython",
    "version": 3
   },
   "file_extension": ".py",
   "mimetype": "text/x-python",
   "name": "python",
   "nbconvert_exporter": "python",
   "pygments_lexer": "ipython3",
   "version": "3.7.3"
  }
 },
 "nbformat": 4,
 "nbformat_minor": 2
}
