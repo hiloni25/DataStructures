{
 "cells": [
  {
   "cell_type": "markdown",
   "metadata": {},
   "source": [
    "# Priority Queues with Binary heaps-"
   ]
  },
  {
   "cell_type": "code",
   "execution_count": null,
   "metadata": {},
   "outputs": [],
   "source": [
    "Priority Queue- The logical order of items inside a queue is determined by their priority\n",
    "Highest priority item- front of the queue, lowest priority- back of the queue\n",
    "When you enqueue an item on priority queue, new item may move all the way to the front"
   ]
  },
  {
   "cell_type": "code",
   "execution_count": null,
   "metadata": {},
   "outputs": [],
   "source": [
    "Implement priority Queue- using binary heap\n",
    "Enqueue and Dequeue items in O(logn)\n",
    "\n",
    "Min heap- smallest key is always at the front (parent key <= child keys)\n",
    "Max heap- largest key is always at the front (parent key >= child keys)"
   ]
  },
  {
   "cell_type": "code",
   "execution_count": null,
   "metadata": {},
   "outputs": [],
   "source": [
    "Binary Heap operations-\n",
    "BinaryHeap()- creates a new, empty, binary heap\n",
    "insert(k)- adds a new item to the heap\n",
    "findMin()- return the item with minimum key value, leaving item in heap\n",
    "delMin()- returns the item with minimum key value, removing the item from heap\n",
    "isEmpty()- returns True if heap is empty, false otherwise\n",
    "size()- returns number of items in the heap\n",
    "buildHeap(list)- builds a new heap from a list of keys"
   ]
  },
  {
   "cell_type": "code",
   "execution_count": null,
   "metadata": {},
   "outputs": [],
   "source": [
    "Balanced Binary Tree- roughly same number of nodes in left and right subtrees of the root.\n",
    "In our heap implementation, we keep the trees balanced by creating a complete binary tree(each level has all of nodes)\n",
    "\n",
    "Binary tree can be represented only by a list.\n",
    "Left child of parent p-2p and right child of parent p-2p+1\n",
    "(list starts with 0th index-0 value, 1st index-root value, 2nd index-1st left child and so on...)\n"
   ]
  },
  {
   "cell_type": "code",
   "execution_count": 1,
   "metadata": {},
   "outputs": [],
   "source": [
    "class BinHeap:\n",
    "    def __init__(self):\n",
    "        self.heapList = [0] #just a list representation and initial just 0 value at 0th index of list\n",
    "        self.currentSize = 0\n",
    "        \n",
    "    def percUp(self,i):#append the new ele at end so it will follow binary tree property \n",
    "        #but might violate heap property of amx heap and min heap\n",
    "        #so compare newly added item with the parent\n",
    "        #we are doing for minheap, so lesser the value it will move above\n",
    "        \n",
    "        while i//2 > 0: #i//2 means parent and till we haven't reached root, we continue\n",
    "            if self.heapList[i] < self.heapList[i//2]: #If newly added child value is lesser than parent, need to swap\n",
    "                tmp = self.heapList[i//2] #saving parent's value in a temp variable\n",
    "                self.heapList[i//2] = self.heapList[i] #assigning child's value to parents index\n",
    "                self.heapList[i] = tmp\n",
    "                #swapped parent and child \n",
    "            i = i//2\n",
    "            \n",
    "            \n",
    "    def insert(self,k):\n",
    "        self.heapList.append(k)\n",
    "        self.currentSize = self.currentSize + 1\n",
    "        self.percUp(self.currentSize)\n",
    "        \n",
    "        \n",
    "    def minChild(self,i):\n",
    "        if i*2+1 > self.currentSize:\n",
    "            return i**2\n",
    "        \n",
    "        else:\n",
    "            if self.heapList[i*2] < self.heapList[i*2+1]:\n",
    "                return i*2\n",
    "            \n",
    "            else:\n",
    "                return i*2+1\n",
    "        \n",
    "    def percDown(self,i):\n",
    "        while(i**2) <= self.currentSize:\n",
    "            mc = self.minChild(i)\n",
    "            if self.heapList[i] > self.heapList[mc]:\n",
    "                tmp = self.heapList[i]\n",
    "                self.heapList[i] = self.heapList[mc]\n",
    "                self.heapList[mc] = temp\n",
    "                \n",
    "            i = mc\n",
    "            \n",
    "        \n",
    "        \n",
    "    def delMin(): #since root is min ele of heap, finding min is easy\n",
    "        #hard part is to restore full compliance with heap strucure and heap order properties after root has been removed\n",
    "        #Steps-\n",
    "        #1. Move last item in list and move to root\n",
    "        #2. Push new root down the tree to its proper position. Heap Order Restored :D \n",
    "        #(Swap the root with its smallest child less than the root)\n",
    "        retval = self.heapList[1] #root node-min ele in your heap structure\n",
    "        self.heapList[1] = self.heapList[self.currentSize]\n",
    "        self.currentSize = self.currentSize - 1\n",
    "        self.heapList.pop()\n",
    "        self.percDown(1)\n",
    "        return retval\n",
    "    \n",
    "    def buildHeap(self,alist):\n",
    "        i = len(alist) // 2\n",
    "        self.currentSize = len(alist)\n",
    "        self.heapList = [0] + alist[:]\n",
    "        while(i>0):\n",
    "            self.percDown(i)\n",
    "            i = i-1\n",
    "            "
   ]
  },
  {
   "cell_type": "code",
   "execution_count": 3,
   "metadata": {},
   "outputs": [],
   "source": [
    "b = BinHeap()"
   ]
  },
  {
   "cell_type": "code",
   "execution_count": 4,
   "metadata": {},
   "outputs": [],
   "source": [
    "b.insert(1)"
   ]
  },
  {
   "cell_type": "code",
   "execution_count": 5,
   "metadata": {},
   "outputs": [],
   "source": [
    "b.insert(7)"
   ]
  },
  {
   "cell_type": "code",
   "execution_count": 6,
   "metadata": {},
   "outputs": [],
   "source": [
    "b.insert(5)"
   ]
  },
  {
   "cell_type": "code",
   "execution_count": 7,
   "metadata": {},
   "outputs": [],
   "source": [
    "b.insert(4)"
   ]
  },
  {
   "cell_type": "code",
   "execution_count": 10,
   "metadata": {},
   "outputs": [
    {
     "data": {
      "text/plain": [
       "<__main__.BinHeap at 0x1042e4780>"
      ]
     },
     "execution_count": 10,
     "metadata": {},
     "output_type": "execute_result"
    }
   ],
   "source": [
    "b"
   ]
  },
  {
   "cell_type": "code",
   "execution_count": null,
   "metadata": {},
   "outputs": [],
   "source": []
  }
 ],
 "metadata": {
  "kernelspec": {
   "display_name": "Python 3",
   "language": "python",
   "name": "python3"
  },
  "language_info": {
   "codemirror_mode": {
    "name": "ipython",
    "version": 3
   },
   "file_extension": ".py",
   "mimetype": "text/x-python",
   "name": "python",
   "nbconvert_exporter": "python",
   "pygments_lexer": "ipython3",
   "version": "3.7.3"
  }
 },
 "nbformat": 4,
 "nbformat_minor": 2
}
