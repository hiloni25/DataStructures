{
 "cells": [
  {
   "cell_type": "code",
   "execution_count": null,
   "metadata": {},
   "outputs": [],
   "source": [
    "#Implement a queue using two stacks\n",
    "#stack reverses the order you put it in, queue doesn't\n",
    "\n",
    "#Algo-\n",
    "#in-stack to fill elements when enqueued and dequeue takes element from out-stack. \n",
    "#If out-stack is empty, we pop elements from in-stack and push them onto the out-stack"
   ]
  },
  {
   "cell_type": "code",
   "execution_count": null,
   "metadata": {},
   "outputs": [],
   "source": [
    "#use lists instead of your own Stack class\n",
    "stack1 = []\n",
    "stack2 = []"
   ]
  },
  {
   "cell_type": "code",
   "execution_count": null,
   "metadata": {},
   "outputs": [],
   "source": [
    "#Example explaining the algo-\n",
    "\n",
    "first we need to enqueue 4\n",
    "so, add in instack, instack = [4]\n",
    "\n",
    "now we add enqueue 5\n",
    "so, add in instack, instack = [4,5]\n",
    "\n",
    "we add enqueue 6\n",
    "add in instack, instack = [4,5,6]\n",
    "\n",
    "#Dequeue-\n",
    "Initially, outstack is empty, so we "
   ]
  },
  {
   "cell_type": "code",
   "execution_count": 5,
   "metadata": {},
   "outputs": [],
   "source": [
    "class Queue2Stacks(object):\n",
    "    \n",
    "    def __init__(self):\n",
    "        \n",
    "        # Two Stacks\n",
    "        self.in_stack = []\n",
    "        self.out_stack = []\n",
    "     \n",
    "    def enqueue(self, element):\n",
    "        # FILL OUT CODE HERE\n",
    "        self.in_stack.append(element)\n",
    "        \n",
    "    def dequeue(self):\n",
    "        if(self.out_stack == []):\n",
    "            while self.in_stack:\n",
    "                self.out_stack.append(self.in_stack.pop())\n",
    "                \n",
    "        return self.out_stack.pop()\n",
    "        \n",
    "        \n",
    "        # FILL OUT CODE HERE\n",
    "       "
   ]
  },
  {
   "cell_type": "code",
   "execution_count": 7,
   "metadata": {},
   "outputs": [
    {
     "name": "stdout",
     "output_type": "stream",
     "text": [
      "<__main__.Queue2Stacks object at 0x10c6bb8d0>\n",
      "0\n",
      "1\n",
      "2\n",
      "3\n",
      "4\n",
      "<__main__.Queue2Stacks object at 0x10c6bb8d0>\n"
     ]
    }
   ],
   "source": [
    "\"\"\"\n",
    "RUN THIS CELL TO CHECK THAT YOUR SOLUTION OUTPUT MAKES SENSE AND BEHAVES AS A QUEUE\n",
    "\"\"\"\n",
    "q = Queue2Stacks()\n",
    "\n",
    "for i in range(5):\n",
    "    q.enqueue(i)\n",
    "    \n",
    "for i in range(5):\n",
    "    print (q.dequeue())\n",
    "    "
   ]
  },
  {
   "cell_type": "code",
   "execution_count": null,
   "metadata": {},
   "outputs": [],
   "source": []
  }
 ],
 "metadata": {
  "kernelspec": {
   "display_name": "Python 3",
   "language": "python",
   "name": "python3"
  },
  "language_info": {
   "codemirror_mode": {
    "name": "ipython",
    "version": 3
   },
   "file_extension": ".py",
   "mimetype": "text/x-python",
   "name": "python",
   "nbconvert_exporter": "python",
   "pygments_lexer": "ipython3",
   "version": "3.7.3"
  }
 },
 "nbformat": 4,
 "nbformat_minor": 2
}
