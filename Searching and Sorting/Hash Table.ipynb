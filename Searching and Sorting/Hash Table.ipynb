{
 "cells": [
  {
   "cell_type": "markdown",
   "metadata": {},
   "source": [
    "# Hashing"
   ]
  },
  {
   "cell_type": "markdown",
   "metadata": {},
   "source": [
    "Data Structure Hashing can be searched in O(1) time\n",
    "A hash table- collection of items which are stored in such a way as to make it easy to find them later\n",
    "Each position of hash table-slots-hold an item and is named by an integer value starting at 0\n",
    "Eg- slot named 0, a slot named 1, a slot named 2, and so on.."
   ]
  },
  {
   "cell_type": "markdown",
   "metadata": {},
   "source": [
    "Initially every slot is empty/None in hash table\n",
    "Mapping between item and slot-has function\n",
    "Hash function- take any item in collection and return an integer in range of slot name, between 0 and m-1\n",
    "\n",
    "Eg- Remainder method-\n",
    "set of int- 54,26,93,17,77,31\n",
    "m=11 empty hash table\n",
    "hash function = 54%11=10, 26%11=4, 93%11=5, 17%11=6, 77%11=0, 31%11=9\n",
    "Hence, occupying 6 out of those 11 slots\n",
    "load factor(lamba) = numberOfItems/Table Size = 6/11\n",
    "\n",
    "While searching, use hash function and search in that slot\n",
    "2 items in same loaction? collision/clash\n",
    "\n",
    "Folding Method for Hash functions-\n",
    "Dividing the item into equal-size pieces(the last piece may not be of equal size). These pieces are added together, resulting hash value\n",
    "eg-phone number- 436-555-4601\n",
    "group of 2(43,65,55,46,01)\n",
    "Adding=210. Suppose, we have 11 slots.\n",
    "210%11 = 1 so phone number will be in slot 1\n",
    "\n",
    "Mid Square Method for Hash functions-\n",
    "first square the item, then extract some portion of resulting digits\n",
    "eg- 44, we would compute 44^2 = 1936\n",
    "93(middle two digits)%11 = 5\n",
    " \n",
    "Non-integer elements-\n",
    "Eg-string- \"cat\"-sequence of ordinal values\n",
    "ord(built-in python fn for getting ordinal value)\n",
    "cat-99,97,116, sum=312%11 = 4"
   ]
  },
  {
   "cell_type": "markdown",
   "metadata": {},
   "source": [
    "Collision Resolution-\n",
    "\n",
    "Looks into hash table and tries to find another open slot to hold item that caused collision\n",
    "sequentially move through slots till we find first slot that is empty.\n",
    "Open adressing- tries to find the next open slot or address in the hash table\n",
    "Linear probing- systematically visiting each slot one at a time(open addressing)\n",
    "\n",
    "skip slots, more evenly distributing the items that have caused collisions.\n",
    "look another slot after collision- rehashing\n",
    "variation of linear probing idea is called quadratic probing\n",
    "instead of skip, rehash function that increments hash value by 1,3,5,7,9...\n",
    "first val=h, successive values=h+1, h+4, h+9...\n",
    "\n",
    "Chaining-\n",
    "Allows many items to exist at the same location in the hash table\n"
   ]
  },
  {
   "cell_type": "markdown",
   "metadata": {},
   "source": [
    "# Implementation Of Hash Table-\n",
    "#built-in dict for hash table. No need to code your own hash table"
   ]
  },
  {
   "cell_type": "code",
   "execution_count": null,
   "metadata": {},
   "outputs": [],
   "source": [
    "class HashTable(object):\n",
    "    \n",
    "    def __init__(self,size):\n",
    "        \n",
    "        # Set up size and slots and data\n",
    "        self.size = size\n",
    "        self.slots = [None] * self.size\n",
    "        self.data = [None] * self.size\n",
    "        \n",
    "    def put(self,key,data):\n",
    "        #Note, we'll only use integer keys for ease of use with the Hash Function\n",
    "        \n",
    "        # Get the hash value\n",
    "        hashvalue = self.hashfunction(key,len(self.slots))\n",
    "\n",
    "        # If Slot is Empty\n",
    "        if self.slots[hashvalue] == None:\n",
    "            self.slots[hashvalue] = key\n",
    "            self.data[hashvalue] = data\n",
    "        \n",
    "        else:\n",
    "            \n",
    "            # If key already exists, replace old value\n",
    "            if self.slots[hashvalue] == key:\n",
    "                self.data[hashvalue] = data  \n",
    "            \n",
    "            # Otherwise, find the next available slot\n",
    "            else:\n",
    "                \n",
    "                nextslot = self.rehash(hashvalue,len(self.slots))\n",
    "                \n",
    "                # Get to the next slot\n",
    "                while self.slots[nextslot] != None and self.slots[nextslot] != key:\n",
    "                    nextslot = self.rehash(nextslot,len(self.slots))\n",
    "                \n",
    "                # Set new key, if NONE\n",
    "                if self.slots[nextslot] == None:\n",
    "                    self.slots[nextslot]=key\n",
    "                    self.data[nextslot]=data\n",
    "                    \n",
    "                # Otherwise replace old value\n",
    "                else:\n",
    "                    self.data[nextslot] = data \n",
    "\n",
    "    def hashfunction(self,key,size):\n",
    "        # Remainder Method\n",
    "        return key%size\n",
    "\n",
    "    def rehash(self,oldhash,size):\n",
    "        # For finding next possible positions\n",
    "        return (oldhash+1)%size\n",
    "    \n",
    "    \n",
    "    def get(self,key):\n",
    "        \n",
    "        # Getting items given a key\n",
    "        \n",
    "        # Set up variables for our search\n",
    "        startslot = self.hashfunction(key,len(self.slots))\n",
    "        data = None\n",
    "        stop = False\n",
    "        found = False\n",
    "        position = startslot\n",
    "        \n",
    "        # Until we discern that its not empty or found (and haven't stopped yet)\n",
    "        while self.slots[position] != None and not found and not stop:\n",
    "            \n",
    "            if self.slots[position] == key:\n",
    "                found = True\n",
    "                data = self.data[position]\n",
    "                \n",
    "            else:\n",
    "                position=self.rehash(position,len(self.slots))\n",
    "                if position == startslot:\n",
    "                    \n",
    "                    stop = True\n",
    "        return data\n",
    "\n",
    "    # Special Methods for use with Python indexing\n",
    "    def __getitem__(self,key):\n",
    "        return self.get(key)\n",
    "\n",
    "    def __setitem__(self,key,data):\n",
    "        self.put(key,data)\n"
   ]
  },
  {
   "cell_type": "code",
   "execution_count": null,
   "metadata": {},
   "outputs": [],
   "source": [
    "h = HashTable(5)"
   ]
  },
  {
   "cell_type": "code",
   "execution_count": null,
   "metadata": {},
   "outputs": [],
   "source": [
    "# Put our first key in\n",
    "h[1] = 'one'"
   ]
  },
  {
   "cell_type": "code",
   "execution_count": null,
   "metadata": {},
   "outputs": [],
   "source": [
    "h[2] = 'two'"
   ]
  },
  {
   "cell_type": "code",
   "execution_count": null,
   "metadata": {},
   "outputs": [],
   "source": [
    "h[3] = 'three'"
   ]
  },
  {
   "cell_type": "code",
   "execution_count": null,
   "metadata": {},
   "outputs": [],
   "source": [
    "h[1]"
   ]
  },
  {
   "cell_type": "code",
   "execution_count": null,
   "metadata": {},
   "outputs": [],
   "source": [
    "h[1] = 'new_one'"
   ]
  },
  {
   "cell_type": "code",
   "execution_count": null,
   "metadata": {},
   "outputs": [],
   "source": [
    "h[1]"
   ]
  },
  {
   "cell_type": "code",
   "execution_count": null,
   "metadata": {},
   "outputs": [],
   "source": [
    "print h[4]"
   ]
  }
 ],
 "metadata": {
  "kernelspec": {
   "display_name": "Python 3",
   "language": "python",
   "name": "python3"
  },
  "language_info": {
   "codemirror_mode": {
    "name": "ipython",
    "version": 3
   },
   "file_extension": ".py",
   "mimetype": "text/x-python",
   "name": "python",
   "nbconvert_exporter": "python",
   "pygments_lexer": "ipython3",
   "version": "3.7.3"
  }
 },
 "nbformat": 4,
 "nbformat_minor": 2
}
