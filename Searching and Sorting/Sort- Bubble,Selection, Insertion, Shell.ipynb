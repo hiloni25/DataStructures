{
 "cells": [
  {
   "cell_type": "code",
   "execution_count": null,
   "metadata": {},
   "outputs": [],
   "source": [
    "#Sorting-\n",
    "Bubble sort, selection sort, insertion sort, shell sort, merge sort and quick sort\n",
    "#www.sorting-algorithms.com, visualalgo.net, "
   ]
  },
  {
   "cell_type": "code",
   "execution_count": null,
   "metadata": {},
   "outputs": [],
   "source": [
    "#Bubble Sort-\n",
    "\n",
    "\n",
    "Each item \"bubbles\" up to the location where it belongs\n",
    "AAfter, first pass, last ele is highest, now n-1 pass\n",
    "\n",
    "algo-\n",
    "we first take n has whole array, and then k from 0 to n, so in first pass after swapping last ele will be hughest\n",
    "so for second pass,  "
   ]
  },
  {
   "cell_type": "code",
   "execution_count": 3,
   "metadata": {},
   "outputs": [],
   "source": [
    "def bubble_sort(arr):\n",
    "    for n in range(len(arr)-1,0,-1):\n",
    "        for k in range(n):\n",
    "            if(arr[k] > arr[k+1]):\n",
    "                temp = arr[k]\n",
    "                arr[k] = arr[k+1]\n",
    "                arr[k+1] = temp\n",
    "                \n",
    "    return arr       \n",
    "        "
   ]
  },
  {
   "cell_type": "code",
   "execution_count": 4,
   "metadata": {},
   "outputs": [
    {
     "data": {
      "text/plain": [
       "[2, 3, 5, 7]"
      ]
     },
     "execution_count": 4,
     "metadata": {},
     "output_type": "execute_result"
    }
   ],
   "source": [
    "bubble_sort([5,3,7,2])"
   ]
  },
  {
   "cell_type": "code",
   "execution_count": null,
   "metadata": {},
   "outputs": [],
   "source": [
    "#Selection sort-\n",
    "\n",
    "Improves on bubble sort by making only one exchange for every pass through the list.\n",
    "Selection sort looks for largest value as it makes a pass and, after completing the pass, places it in proper location\n",
    "\n",
    "For each pass, find the largest and put it at last position(swap), then largest in n-1 list an dput in second last position and so on"
   ]
  },
  {
   "cell_type": "code",
   "execution_count": 5,
   "metadata": {},
   "outputs": [],
   "source": [
    "def selection_sort(arr):\n",
    "    for n in range(len(arr)-1,0,-1):\n",
    "        posOfMax = 0\n",
    "        for k in range(1,n+1):\n",
    "            if arr[k] > arr[posOfMax]:\n",
    "                posOfMax = k\n",
    "            \n",
    "        temp = arr[n]\n",
    "        arr[n] = arr[posOfMax]\n",
    "        arr[posOfMax] = temp\n",
    "        \n",
    "    return arr\n",
    "            "
   ]
  },
  {
   "cell_type": "code",
   "execution_count": 6,
   "metadata": {},
   "outputs": [
    {
     "data": {
      "text/plain": [
       "[1, 3, 5, 8, 10]"
      ]
     },
     "execution_count": 6,
     "metadata": {},
     "output_type": "execute_result"
    }
   ],
   "source": [
    "selection_sort([5,8,3,10,1])"
   ]
  },
  {
   "cell_type": "code",
   "execution_count": null,
   "metadata": {},
   "outputs": [],
   "source": [
    "#Insertion Sort-\n",
    "\n",
    "Insertion sort always maintains a sorted sublist in the lower positions of the list\n",
    "Each new item is then inserted back into previous sublist that sorted sublist is one item larger\n",
    "\n",
    "Algo-\n",
    "Initially only first ele is sorted, now sort between 1st and 2n ele, then sort between 1,2 and 3 ele and so on "
   ]
  },
  {
   "cell_type": "code",
   "execution_count": 1,
   "metadata": {},
   "outputs": [],
   "source": [
    "'''def insertion_sort(arr):\n",
    "    for n in range(1,len(arr)):\n",
    "        pos = n\n",
    "        while(pos > 0):\n",
    "            print(\"ent\"+str(n))\n",
    "            if(arr[n]<arr[pos-1]):\n",
    "                print(\"ent 1\")\n",
    "                temp = arr[n]\n",
    "                arr[n] = arr[pos-1]\n",
    "                arr[pos-1] = temp\n",
    "                pos-=1\n",
    "                \n",
    "            else:\n",
    "                break\n",
    "            #n-=1\n",
    "                \n",
    "    return arr'''\n",
    "        \n",
    "            \n",
    "        "
   ]
  },
  {
   "cell_type": "code",
   "execution_count": 7,
   "metadata": {},
   "outputs": [],
   "source": [
    "def insertion_sort(arr):\n",
    "    for i in range(1,len(arr)):\n",
    "        currentvalue = arr[i]\n",
    "        position = i\n",
    "        while(position > 0 and arr[position-1]>currentvalue):\n",
    "            \n",
    "            arr[position] = arr[position - 1]\n",
    "            position = position-1\n",
    "        \n",
    "        arr[position] = currentvalue\n",
    "        \n",
    "    return arr"
   ]
  },
  {
   "cell_type": "code",
   "execution_count": 8,
   "metadata": {},
   "outputs": [
    {
     "data": {
      "text/plain": [
       "[1, 3, 5, 8, 10]"
      ]
     },
     "execution_count": 8,
     "metadata": {},
     "output_type": "execute_result"
    }
   ],
   "source": [
    "insertion_sort([5,8,3,10,1])"
   ]
  },
  {
   "cell_type": "code",
   "execution_count": null,
   "metadata": {},
   "outputs": [],
   "source": [
    "#Shell sort-\n",
    "\n",
    "Like insertion sort, but difference- break the original list into a number of smaller sublists\n",
    "Instead of breaking list into sublists of contiguous items, sheel sort uses an increment \"i\" \n",
    "to create a sublist by choosing all items that are \"i\" itemsapart\n",
    "See youtube video- Nice explainination for visualizing \n"
   ]
  },
  {
   "cell_type": "code",
   "execution_count": 19,
   "metadata": {},
   "outputs": [],
   "source": [
    "def shell_sort(arr):\n",
    "    \n",
    "    sublistcount = len(arr)//2  #n/2 in first sublist, in next sublit n/4...\n",
    "    while(sublistcount > 0):\n",
    "        for start in range(sublistcount):\n",
    "            \n",
    "            gap_insertion_sort(arr,start,sublistcount)\n",
    "            \n",
    "        sublistcount = sublistcount//2\n",
    "        \n",
    "    \n",
    "    \n",
    "def gap_insertion_sort(arr,start,gap):\n",
    "    \n",
    "    for i in range(start+gap,len(arr),gap):\n",
    "        \n",
    "        currentvalue = arr[i]\n",
    "        position = i\n",
    "        \n",
    "        while(position >= gap and arr[position-gap] > currentvalue):\n",
    "            arr[position] = arr[position-gap]\n",
    "            position = position-gap\n",
    "            \n",
    "        arr[position] = currentvalue\n",
    "    "
   ]
  },
  {
   "cell_type": "code",
   "execution_count": 20,
   "metadata": {},
   "outputs": [
    {
     "data": {
      "text/plain": [
       "[2, 4, 6, 7, 21, 23, 24, 45, 45, 67, 90]"
      ]
     },
     "execution_count": 20,
     "metadata": {},
     "output_type": "execute_result"
    }
   ],
   "source": [
    "arr = [45,67,23,45,21,24,7,2,6,4,90]\n",
    "shell_sort(arr)\n",
    "arr"
   ]
  }
 ],
 "metadata": {
  "kernelspec": {
   "display_name": "Python 3",
   "language": "python",
   "name": "python3"
  },
  "language_info": {
   "codemirror_mode": {
    "name": "ipython",
    "version": 3
   },
   "file_extension": ".py",
   "mimetype": "text/x-python",
   "name": "python",
   "nbconvert_exporter": "python",
   "pygments_lexer": "ipython3",
   "version": "3.7.3"
  }
 },
 "nbformat": 4,
 "nbformat_minor": 2
}
