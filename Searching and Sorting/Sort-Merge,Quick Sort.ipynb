{
 "cells": [
  {
   "cell_type": "code",
   "execution_count": null,
   "metadata": {},
   "outputs": [],
   "source": [
    "Divide and conquer- Merge sort and quick sort"
   ]
  },
  {
   "cell_type": "code",
   "execution_count": null,
   "metadata": {},
   "outputs": [],
   "source": [
    "#Merge sort-\n",
    "reursive algo that continously splits a list in half\n",
    "If list is empty/one item- it is sorted by definition..\n",
    "If list has more than one item, we split list and recursively invoke a merge sort on both halves\n",
    "Once two half is sorted, merge is perform\n",
    "Merging-take two smaller sorted lists and combine them together into a single, sorted, new list\n",
    "\n",
    "Algo-\n",
    "Continously split to all one length sublist and then merge them..."
   ]
  },
  {
   "cell_type": "code",
   "execution_count": null,
   "metadata": {},
   "outputs": [],
   "source": [
    "def merge_sort(arr):\n",
    "    \n",
    "    if len(arr) > 1:\n",
    "        \n",
    "        mid = len(arr)//2\n",
    "        lefthalf = arr[:mid]\n",
    "        righthalf = arr[mid:]\n",
    "        \n",
    "        merge_sort(lefthalf) #recursively diving\n",
    "        merge_sort(righthalf)\n",
    "        \n",
    "        i,j,k = 0,0,0\n",
    "        \n",
    "        #Now merging...\n",
    "        while(i < len(lefthalf) and j < len(righthalf)):\n",
    "            \n",
    "            if(lefthalf[i] < righthalf[j]):\n",
    "                arr[k] = lefthalf[i]\n",
    "                i += 1\n",
    "                \n",
    "            else:\n",
    "                arr[k] = righthalf[j]\n",
    "                j+=1\n",
    "                \n",
    "            k+=1\n",
    "            \n",
    "        while(i<len(lefthalf)):\n",
    "            arr[k] = lefthalf[i]\n",
    "            i+=1\n",
    "            k+=1\n",
    "        \n",
    "        while(j < len(righthalf)):\n",
    "            arr[k] = righthalf[j]\n",
    "            j+=1\n",
    "            k+=1\n",
    "            \n",
    "        \n",
    "    return arr"
   ]
  },
  {
   "cell_type": "code",
   "execution_count": null,
   "metadata": {},
   "outputs": [],
   "source": [
    "arr = [23,45,11,7,98]\n",
    "merge_sort(arr)"
   ]
  },
  {
   "cell_type": "code",
   "execution_count": null,
   "metadata": {},
   "outputs": [],
   "source": [
    "#Quick sort-\n",
    "Quick sort uses divide and conquer, better than merger sort because- not using additional storage\n",
    "Doesn't divide list into half\n",
    "quick sort first selects a value, called pivot value-helps assist with splitting of list\n",
    "actual position- where the pivot value belongs in final sorted list, \n",
    "commonly called split point, will be used to divide list for subsequent calls to quick sort\n",
    "\n",
    "Algo-\n",
    "First element - pivot\n",
    "Initially- secong ele-leftmark and last ele-rightmark\n",
    "if ele is lesser than pivot shift it to left, \n",
    "or else keep it as same position and move right mark and \n",
    "find ele lesser than pivot and swap left mark and rigt mark value"
   ]
  },
  {
   "cell_type": "code",
   "execution_count": 3,
   "metadata": {},
   "outputs": [],
   "source": [
    "def quick_sort(arr):\n",
    "    quick_sort_help(arr,0,len(arr)-1)\n",
    "    pass\n",
    "\n",
    "def quick_sort_help(arr,first,last): #recursive function\n",
    "    if(first < last):\n",
    "        splitpoint = partition(arr,first,last)\n",
    "        \n",
    "        quick_sort_help(arr,first,splitpoint-1)\n",
    "        quick_sort_help(arr,splitpoint+1, last)\n",
    "    pass\n",
    "\n",
    "def partition(arr,first,last):\n",
    "    \n",
    "    pivotvalue = arr[first] #Selecting pivot value as first item\n",
    "    leftmark = first+1\n",
    "    rightmark = last\n",
    "    \n",
    "    done = False\n",
    "    \n",
    "    while(not done):\n",
    "        while(leftmark <= rightmark and arr[leftmark] <= pivotvalue):\n",
    "            leftmark += 1\n",
    "        \n",
    "        while(arr[rightmark] >= pivotvalue and rightmark >= leftmark): \n",
    "            rightmark -= 1\n",
    "            \n",
    "        if(rightmark < leftmark):\n",
    "            done = True\n",
    "            \n",
    "        else:\n",
    "            temp = arr[leftmark]\n",
    "            arr[leftmark] = arr[rightmark]\n",
    "            arr[rightmark] = temp\n",
    "        \n",
    "    temp = arr[first]\n",
    "    arr[first] = arr[rightmark]\n",
    "    arr[rightmark] = temp\n",
    "    \n",
    "    return rightmark\n",
    "        \n",
    "    pass"
   ]
  },
  {
   "cell_type": "code",
   "execution_count": 4,
   "metadata": {},
   "outputs": [],
   "source": [
    "arr = [2,5,93,56,5,70]\n",
    "quick_sort(arr)"
   ]
  },
  {
   "cell_type": "code",
   "execution_count": 5,
   "metadata": {},
   "outputs": [
    {
     "data": {
      "text/plain": [
       "[2, 5, 5, 56, 70, 93]"
      ]
     },
     "execution_count": 5,
     "metadata": {},
     "output_type": "execute_result"
    }
   ],
   "source": [
    "arr"
   ]
  },
  {
   "cell_type": "code",
   "execution_count": null,
   "metadata": {},
   "outputs": [],
   "source": []
  }
 ],
 "metadata": {
  "kernelspec": {
   "display_name": "Python 3",
   "language": "python",
   "name": "python3"
  },
  "language_info": {
   "codemirror_mode": {
    "name": "ipython",
    "version": 3
   },
   "file_extension": ".py",
   "mimetype": "text/x-python",
   "name": "python",
   "nbconvert_exporter": "python",
   "pygments_lexer": "ipython3",
   "version": "3.7.3"
  }
 },
 "nbformat": 4,
 "nbformat_minor": 2
}
