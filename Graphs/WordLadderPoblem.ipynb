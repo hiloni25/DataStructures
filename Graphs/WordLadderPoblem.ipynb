{
 "cells": [
  {
   "cell_type": "markdown",
   "metadata": {},
   "source": [
    "# Word Ladder Problem"
   ]
  },
  {
   "cell_type": "markdown",
   "metadata": {},
   "source": [
    "Problem-\n",
    "Transform word \"FOOL\" into word \"SAGE\"\n",
    "In word ladder puzzle, must make change occur gradually by changing one letter at a time\n",
    "At each step, transform one word into another word, you are not allowed to transform a word into a non-word\n",
    "\n",
    "FOOL->POOL->POLL->POLE->PALE->SALE->SAGE"
   ]
  },
  {
   "cell_type": "markdown",
   "metadata": {},
   "source": [
    "Graph Algo-\n",
    "Represent relationships between words as a graph\n",
    "Use graph algo known as bfs to find an efficient path from strating word to ending word\n",
    "\n",
    "large collection of words into a graph\n",
    "Have an edge from one word to another if the two words are only different by a single letter\n",
    "Any path from one word to another is soln to word ladder puzzle"
   ]
  },
  {
   "cell_type": "markdown",
   "metadata": {},
   "source": [
    "For huge number OF BUCKETS,use blank soln-\n",
    "\n",
    "_OPE-POPe,ROPE,NOPE,HOPE,LOPE,MOPE,COPE\n",
    "P_PE-POPE,PIPE,PAPE\n",
    "PO_E-POPE,POLE,PORE,POSE,POKE\n",
    "POP_-POPE,POPS\n",
    "\n",
    "python-dictionary, labels on buckets we have just described are keys in our dict, \n",
    "       value stored for that key is a list of words\n",
    "    \n",
    "Vertex for each word in graph. We create edges between all the vertices we find for words found under the same key in the dictionary\n"
   ]
  },
  {
   "cell_type": "code",
   "execution_count": null,
   "metadata": {},
   "outputs": [],
   "source": [
    "class Vertex:\n",
    "        def __init__(self,key):\n",
    "            self.id = key\n",
    "            self.connectedTo = {}\n",
    "            \n",
    "        def addNeighbor(self,nbr,weight=0):\n",
    "            self.connectedTo[nbr] = weight\n",
    "            \n",
    "        def getConnections(self):\n",
    "            return self.connectedTo.keys() #returning all the keys of that dictionary\n",
    "        \n",
    "        def getId(self):\n",
    "            return self.id\n",
    "        \n",
    "        def getWeight(self,nbr):\n",
    "            return self.connectedTo[nbr]\n",
    "        \n",
    "        def __str__(self): #return string like print\n",
    "            return str(self.id) + 'connected to' + str([x.id for x in self.connectedTo])\n",
    "            #for every id in self.connectedTo dictionary"
   ]
  },
  {
   "cell_type": "code",
   "execution_count": null,
   "metadata": {},
   "outputs": [],
   "source": [
    "class Graph:\n",
    "    def __init__(self):\n",
    "        self.vertList = {}\n",
    "        self.numVertices = 0 #Vertex tracker counter\n",
    "        \n",
    "    def addVertex(self,key):\n",
    "        self.numVertices += 1\n",
    "        newVertex = Vertex(key)#create a new Vertex and connected to\n",
    "        self.vertList[key] = newVertex#add key to vertList\n",
    "        return newVertex\n",
    "    \n",
    "    def getVertex(self,n):\n",
    "        if n in self.vertList:\n",
    "            return self.vertList[n]\n",
    "        else:\n",
    "            return None\n",
    "        \n",
    "    def addEdge(self,f,t,cost=0):#f=from vertex, t=to vertex, cost=weight\n",
    "        if f not in self.vertList:\n",
    "            nv = self.addVertex(f)\n",
    "            \n",
    "        if t not in self.vertList:\n",
    "            nv = self.addVertex(t)\n",
    "            \n",
    "        self.vertList[f].addNeighbor(self.vertList[t],cost)\n",
    "        \n",
    "    def getVertices(self):\n",
    "        return self.vertList.keys()\n",
    "    \n",
    "    def __iter__(self):\n",
    "        return iter(self.vertList.values())\n",
    "      \n",
    "    def __contains__(self,n):\n",
    "        return n in self.vertList\n",
    "    "
   ]
  },
  {
   "cell_type": "code",
   "execution_count": null,
   "metadata": {},
   "outputs": [],
   "source": [
    "def buildGraph(wordFile):\n",
    "    d={}\n",
    "    g=Graph()\n",
    "    \n",
    "    wfile=open(wordFile,'r')\n",
    "    #create buckets of words that differ by one letter\n",
    "    for line in wfile:\n",
    "        print(line)\n",
    "        word = line[:-1]\n",
    "        print(word)\n",
    "        for i in range(len(word)):\n",
    "            bucket = word[:i] + '_' + word[i+1:]\n",
    "            if bucket in d:\n",
    "                d[bucket].append(word)\n",
    "            else:\n",
    "                d[bucket] = [word]\n",
    "                \n",
    "    #add vertices nd edges for words in the same bucket\n",
    "    for bucket in d.keys():\n",
    "        for word1 in d[bucket]:\n",
    "            for word2 in d[bucket]:\n",
    "                if(word1 != word2):\n",
    "                    g.addEdge(word1,word2)\n",
    "                    \n",
    "    \n",
    "    return g\n",
    "        "
   ]
  },
  {
   "cell_type": "code",
   "execution_count": null,
   "metadata": {},
   "outputs": [],
   "source": []
  },
  {
   "cell_type": "code",
   "execution_count": null,
   "metadata": {},
   "outputs": [],
   "source": []
  },
  {
   "cell_type": "code",
   "execution_count": null,
   "metadata": {},
   "outputs": [],
   "source": []
  },
  {
   "cell_type": "code",
   "execution_count": null,
   "metadata": {},
   "outputs": [],
   "source": []
  },
  {
   "cell_type": "code",
   "execution_count": null,
   "metadata": {},
   "outputs": [],
   "source": []
  },
  {
   "cell_type": "code",
   "execution_count": null,
   "metadata": {},
   "outputs": [],
   "source": []
  },
  {
   "cell_type": "code",
   "execution_count": null,
   "metadata": {},
   "outputs": [],
   "source": []
  }
 ],
 "metadata": {
  "kernelspec": {
   "display_name": "Python 3",
   "language": "python",
   "name": "python3"
  },
  "language_info": {
   "codemirror_mode": {
    "name": "ipython",
    "version": 3
   },
   "file_extension": ".py",
   "mimetype": "text/x-python",
   "name": "python",
   "nbconvert_exporter": "python",
   "pygments_lexer": "ipython3",
   "version": "3.7.3"
  }
 },
 "nbformat": 4,
 "nbformat_minor": 2
}
