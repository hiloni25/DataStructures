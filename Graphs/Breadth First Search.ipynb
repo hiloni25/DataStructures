{
 "cells": [
  {
   "cell_type": "markdown",
   "metadata": {},
   "source": [
    "# Breadth First Search-"
   ]
  },
  {
   "cell_type": "code",
   "execution_count": null,
   "metadata": {},
   "outputs": [],
   "source": [
    "Given a graph G and a starting vertex s, BFS proceeds by exploring edges in the graph to find all the vertices in G\n",
    "for which there is a pth from s\n",
    "\n",
    "Remarkable thing- It finds all the vertices that are a distance k from s before it finds any \n",
    "vertices that are a distance k+1\n",
    "\n",
    "for tree- one level of tree at a time, adds all children before it explores any of its grandchildren\n",
    "\n",
    "start is place in queue and explore those vertices in queue\n",
    "\n",
    "  \n",
    "#See algo from course if needed\n"
   ]
  },
  {
   "cell_type": "code",
   "execution_count": null,
   "metadata": {},
   "outputs": [],
   "source": []
  },
  {
   "cell_type": "code",
   "execution_count": null,
   "metadata": {},
   "outputs": [],
   "source": []
  }
 ],
 "metadata": {
  "kernelspec": {
   "display_name": "Python 3",
   "language": "python",
   "name": "python3"
  },
  "language_info": {
   "codemirror_mode": {
    "name": "ipython",
    "version": 3
   },
   "file_extension": ".py",
   "mimetype": "text/x-python",
   "name": "python",
   "nbconvert_exporter": "python",
   "pygments_lexer": "ipython3",
   "version": "3.7.3"
  }
 },
 "nbformat": 4,
 "nbformat_minor": 2
}
