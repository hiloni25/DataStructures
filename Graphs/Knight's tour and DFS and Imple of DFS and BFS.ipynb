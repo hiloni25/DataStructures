{
 "cells": [
  {
   "cell_type": "markdown",
   "metadata": {},
   "source": [
    "# Knight's Tour Problem-"
   ]
  },
  {
   "cell_type": "markdown",
   "metadata": {},
   "source": [
    "The knight's tour puzzle is played on a chess board with a single chess piece, the knight\n",
    "object of the puzzle is to find a sequence of moves that allows knight to visit every square on the board exactly once"
   ]
  },
  {
   "cell_type": "markdown",
   "metadata": {},
   "source": [
    "steps-\n",
    "represent legal moves of a knight on a chessboard as a graph\n",
    "use graph algo, to find a path of length rows*columns-1 where every vertex on the graph is visited exactly once"
   ]
  },
  {
   "cell_type": "raw",
   "metadata": {},
   "source": [
    "dfs to solve this problem.\n",
    "dfs- exploring one branch as deeply as possible\n",
    "\n",
    "#see knight Tour code in the course\n",
    "\n",
    "Knight's tour example-\n",
    "\n",
    "A -> B -> C\n",
    "|   /     >\n",
    "< <       |\n",
    "D -> E -> F\n",
    "\n",
    "A,B,C(returns false so backtrack),D,E,F,C(end marker < limit- so return True-indicate we made a successful tour of path)\n"
   ]
  },
  {
   "cell_type": "markdown",
   "metadata": {},
   "source": [
    "# Depth First Search-"
   ]
  },
  {
   "cell_type": "raw",
   "metadata": {},
   "source": [
    "searches as deeply as possible\n",
    "even possible that a depth first search will create more than one tree- called depth first forest\n",
    "\n",
    "As with the breadth first search, our depth first search makes use of predecessor links to construct tree\n",
    "DFS will make use of two additional instance variables in Vertex class\n",
    "new instance variables are discovery and finish times\n",
    "Discovery time tracks the number of steps in algo before a vertex is first encountered\n",
    "Finish time is number of steps in the algo before a vertex is colored black"
   ]
  },
  {
   "cell_type": "raw",
   "metadata": {},
   "source": [
    "A -> B -> C\n",
    "|   /     >\n",
    "< <       |\n",
    "D -> E -> F\n",
    "\n",
    "A-gray,B-gray,C(end of branch of tree)-black(coz done exploring),D,E,F(coz B is already colored gray and we don't want to go in loop),F(C-black so F-black) and each vertex will be black..."
   ]
  },
  {
   "cell_type": "code",
   "execution_count": null,
   "metadata": {},
   "outputs": [],
   "source": [
    "Se course lecs for implementation of graph,bfs and dfs"
   ]
  },
  {
   "cell_type": "markdown",
   "metadata": {},
   "source": [
    "# Implementation of dfs-"
   ]
  },
  {
   "cell_type": "code",
   "execution_count": 5,
   "metadata": {},
   "outputs": [],
   "source": [
    "graph = {'A' : set(['B','C']),\n",
    "         'B' : set(['A','D','E']),\n",
    "         'C' : set(['A','F']),\n",
    "         'D' : set(['B']),\n",
    "         'E' : set(['B','F']),\n",
    "         'F' : set(['C','E'])}"
   ]
  },
  {
   "cell_type": "code",
   "execution_count": 6,
   "metadata": {},
   "outputs": [],
   "source": [
    "def dfs(graph,start):\n",
    "    visited = set()\n",
    "    stack = [start]\n",
    "    print(\"stack\" + str(stack))\n",
    "    while stack:\n",
    "        #print(\"stack\" + str(stack))\n",
    "        vertex = stack.pop() #returns the last added ele\n",
    "        #print(\"stack\" + str(stack))\n",
    "        \n",
    "        if vertex not in visited:\n",
    "            visited.add(vertex)\n",
    "            \n",
    "            stack.extend(graph[vertex] - visited) #subtracts sets so extend\n",
    "            #print(\"stack\" + str(stack))\n",
    "            \n",
    "    return visited"
   ]
  },
  {
   "cell_type": "code",
   "execution_count": 7,
   "metadata": {},
   "outputs": [
    {
     "name": "stdout",
     "output_type": "stream",
     "text": [
      "stack['A']\n",
      "stack['A']\n",
      "stack[]\n",
      "stack['B', 'C']\n",
      "stack['B', 'C']\n",
      "stack['B']\n",
      "stack['B', 'F']\n",
      "stack['B', 'F']\n",
      "stack['B']\n",
      "stack['B', 'E']\n",
      "stack['B', 'E']\n",
      "stack['B']\n",
      "stack['B', 'B']\n",
      "stack['B', 'B']\n",
      "stack['B']\n",
      "stack['B', 'D']\n",
      "stack['B', 'D']\n",
      "stack['B']\n",
      "stack['B']\n",
      "stack['B']\n",
      "stack[]\n"
     ]
    },
    {
     "data": {
      "text/plain": [
       "{'A', 'B', 'C', 'D', 'E', 'F'}"
      ]
     },
     "execution_count": 7,
     "metadata": {},
     "output_type": "execute_result"
    }
   ],
   "source": [
    "dfs(graph,'A')"
   ]
  },
  {
   "cell_type": "markdown",
   "metadata": {},
   "source": [
    "# Implementaion of bfs-"
   ]
  },
  {
   "cell_type": "code",
   "execution_count": 8,
   "metadata": {},
   "outputs": [],
   "source": [
    "graph = {'A' : set(['B','C']),\n",
    "         'B' : set(['A','D','E']),\n",
    "         'C' : set(['A','F']),\n",
    "         'D' : set(['B']),\n",
    "         'E' : set(['B','F']),\n",
    "         'F' : set(['C','E'])}"
   ]
  },
  {
   "cell_type": "code",
   "execution_count": 9,
   "metadata": {},
   "outputs": [],
   "source": [
    "def bfs(graph,start):\n",
    "    visited = set()\n",
    "    queue = [start]\n",
    "    \n",
    "    while(queue):\n",
    "        vertex = queue.pop(0) #same as dfs but its one ele so pop at 0\n",
    "        if vertex not in visited:\n",
    "            visited.add(vertex)\n",
    "            queue.extend(graph[vertex]-visited)\n",
    "            \n",
    "    return visited"
   ]
  },
  {
   "cell_type": "code",
   "execution_count": 10,
   "metadata": {},
   "outputs": [
    {
     "data": {
      "text/plain": [
       "{'A', 'B', 'C', 'D', 'E', 'F'}"
      ]
     },
     "execution_count": 10,
     "metadata": {},
     "output_type": "execute_result"
    }
   ],
   "source": [
    "bfs(graph,'A')"
   ]
  },
  {
   "cell_type": "code",
   "execution_count": null,
   "metadata": {},
   "outputs": [],
   "source": []
  }
 ],
 "metadata": {
  "kernelspec": {
   "display_name": "Python 3",
   "language": "python",
   "name": "python3"
  },
  "language_info": {
   "codemirror_mode": {
    "name": "ipython",
    "version": 3
   },
   "file_extension": ".py",
   "mimetype": "text/x-python",
   "name": "python",
   "nbconvert_exporter": "python",
   "pygments_lexer": "ipython3",
   "version": "3.7.3"
  }
 },
 "nbformat": 4,
 "nbformat_minor": 2
}
