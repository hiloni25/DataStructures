{
 "cells": [
  {
   "cell_type": "markdown",
   "metadata": {},
   "source": [
    "#Graph-\n",
    "Graphs- more general strauctute than trees\n",
    "Represents- real-world things such as systems of roads, airline flights from city to city, how internet is connected.\n",
    "\n",
    "Vertex(Node)- fundamental part of a graph(name called key, additional info called payload)\n",
    "Edge- connects two vertices to show that there is a relationship between them\n",
    "(One-way(directed graph/digraph) or two-way)\n",
    "Weight- Edges can be weighted to show cost to go from one vertex to another\n",
    "(e.g.- graph of roads,weight- distance between two cities) \n",
    "\n",
    "Representation- G(V,E)\n",
    "V-set of vertices, E-set of edges(set of tuples(eg-(v0,v1,5), where v0, v1 are two vertices and 5 is weight))\n",
    "\n",
    "Path- sequence of vertices that are connected to edges\n",
    "Cycle in directed graph- a path that starts and ends at the same vertex\n",
    "Acyclic graph- graph with no cycles(DAG(directed acyclic graph)-directed graph with no cycles)\n",
    "\n"
   ]
  },
  {
   "cell_type": "markdown",
   "metadata": {},
   "source": [
    "#Adjanceny matrix and Adjencency List-\n",
    "Adjacency matix- Two-dimensional matrix. \n",
    "In matrix implementation, each rows and columns- vertex in graph.\n",
    "The value that is stored in cell at intersection of row v and column w- edge from vertex v to vertex w\n",
    "Two vertices are connected by an edge- adjacent\n",
    "Advantage- simple, for small graphs it is easy to see which nodes are connected to other nodes.\n",
    "Disadvantage- Most of cells in matrix are empty.So, matrix is \"sparse\". SO, not vey efficient.\n",
    "\n",
    "Adjacent matrix- good implementation- when number of edges is large\n",
    "Since, there is one row and one column for every vertex in graph, \n",
    "number of edges required to fill matrix- |V|(square)\n",
    "Matrix is full when every vertex is connected to other vertex\n",
    "\n",
    "\n",
    "Adjacency List-\n",
    "More space-efficient way to implemet a sparsely connected graph is to use an adjacent list\n",
    "In adjacent list implementation, a master list of all vertices in graph object\n",
    "and then each vertex object in graph maintains a list of other vertices that it is connected to\n",
    "In implementation, use dictionary of vertex class rather than list, dictionary key-vertices and values are weights\n",
    "eg-\n",
    "id = \"V0\" adj = {V1:5,V5:2}\n",
    "Also, easily find all the links that are directly connected to a paticular vertex\n"
   ]
  },
  {
   "cell_type": "markdown",
   "metadata": {},
   "source": [
    "#Implementation of Adjacency List-\n",
    "2 classes-Vertex-reperesent each vertex in the graph\n",
    "Each vertex uses a dict to keep track of the vertices to which it is connected, and the weight of each weight\n",
    "dict-called connectedTo.\n",
    "addNeighbor- add a connection from this vertex to another\n",
    "getConnections- returns all vertices in adjacency list\n",
    "getWeight- returns weight of edge from this vertex to vertex passed as parameter"
   ]
  },
  {
   "cell_type": "code",
   "execution_count": 1,
   "metadata": {},
   "outputs": [],
   "source": [
    "class Vertex:\n",
    "        def __init__(self,key):\n",
    "            self.id = key\n",
    "            self.connectedTo = {}\n",
    "            \n",
    "        def addNeighbor(self,nbr,weight=0):\n",
    "            self.connectedTo[nbr] = weight\n",
    "            \n",
    "        def getConnections(self):\n",
    "            return self.connectedTo.keys() #returning all the keys of that dictionary\n",
    "        \n",
    "        def getId(self):\n",
    "            return self.id\n",
    "        \n",
    "        def getWeight(self,nbr):\n",
    "            return self.connectedTo[nbr]\n",
    "        \n",
    "        def __str__(self): #return string like print\n",
    "            return str(self.id) + 'connected to' + str([x.id for x in self.connectedTo])\n",
    "            #for every id in self.connectedTo dictionary"
   ]
  },
  {
   "cell_type": "markdown",
   "metadata": {},
   "source": [
    "Implementation of Graph-\n",
    "Graph()- creates a new, empty graph\n",
    "addVertex(vert)- adds an instance of vertex to the graph\n",
    "addEdge(fromVert,toVert)- adds a new, directed edge to the graph that connects two vertices\n",
    "addEdge(fromVert,toVert,weight)- adds a new, weighted, directed edge \"\n",
    "getVertex(vertKey)- finds the vertex in graph named vertKey\n",
    "getVertices()- returns lists of all the vertices in the graph\n",
    "in- returns True for a statement of the form vertex in graph, if given vertex is in graph, False otherwise"
   ]
  },
  {
   "cell_type": "code",
   "execution_count": 2,
   "metadata": {},
   "outputs": [],
   "source": [
    "class Graph:\n",
    "    def __init__(self):\n",
    "        self.vertList = {}\n",
    "        self.numVertices = 0 #Vertex tracker counter\n",
    "        \n",
    "    def addVertex(self,key):\n",
    "        self.numVertices += 1\n",
    "        newVertex = Vertex(key)#create a new Vertex and connected to\n",
    "        self.vertList[key] = newVertex#add key to vertList\n",
    "        return newVertex\n",
    "    \n",
    "    def getVertex(self,n):\n",
    "        if n in self.vertList:\n",
    "            return self.vertList[n]\n",
    "        else:\n",
    "            return None\n",
    "        \n",
    "    def addEdge(self,f,t,cost=0):#f=from vertex, t=to vertex, cost=weight\n",
    "        if f not in self.vertList:\n",
    "            nv = self.addVertex(f)\n",
    "            \n",
    "        if t not in self.vertList:\n",
    "            nv = self.addVertex(t)\n",
    "            \n",
    "        self.vertList[f].addNeighbor(self.vertList[t],cost)\n",
    "        \n",
    "    def getVertices(self):\n",
    "        return self.vertList.keys()\n",
    "    \n",
    "    def __iter__(self):\n",
    "        return iter(self.vertList.values())\n",
    "      \n",
    "    def __contains__(self,n):\n",
    "        return n in self.vertList\n",
    "    "
   ]
  },
  {
   "cell_type": "code",
   "execution_count": 3,
   "metadata": {},
   "outputs": [],
   "source": [
    "g = Graph()"
   ]
  },
  {
   "cell_type": "code",
   "execution_count": 5,
   "metadata": {},
   "outputs": [],
   "source": [
    "for i in range(6):\n",
    "    g.addVertex(i)"
   ]
  },
  {
   "cell_type": "code",
   "execution_count": 6,
   "metadata": {},
   "outputs": [
    {
     "data": {
      "text/plain": [
       "{0: <__main__.Vertex at 0x1070a5278>,\n",
       " 1: <__main__.Vertex at 0x1070a5668>,\n",
       " 2: <__main__.Vertex at 0x1070a53c8>,\n",
       " 3: <__main__.Vertex at 0x106f1cdd8>,\n",
       " 4: <__main__.Vertex at 0x106eff6d8>,\n",
       " 5: <__main__.Vertex at 0x106eff160>}"
      ]
     },
     "execution_count": 6,
     "metadata": {},
     "output_type": "execute_result"
    }
   ],
   "source": [
    "g.vertList"
   ]
  },
  {
   "cell_type": "code",
   "execution_count": 7,
   "metadata": {},
   "outputs": [],
   "source": [
    "g.addEdge(0,1,2) #from-0, to-1, cost/weight=2"
   ]
  },
  {
   "cell_type": "code",
   "execution_count": 8,
   "metadata": {},
   "outputs": [
    {
     "name": "stdout",
     "output_type": "stream",
     "text": [
      "0connected to[1]\n",
      "dict_keys([<__main__.Vertex object at 0x1070a5668>])\n",
      "\n",
      "\n",
      "1connected to[]\n",
      "dict_keys([])\n",
      "\n",
      "\n",
      "2connected to[]\n",
      "dict_keys([])\n",
      "\n",
      "\n",
      "3connected to[]\n",
      "dict_keys([])\n",
      "\n",
      "\n",
      "4connected to[]\n",
      "dict_keys([])\n",
      "\n",
      "\n",
      "5connected to[]\n",
      "dict_keys([])\n",
      "\n",
      "\n"
     ]
    }
   ],
   "source": [
    "for vertex in g:\n",
    "    print(vertex)\n",
    "    print(vertex.getConnections())\n",
    "    print('\\n')"
   ]
  },
  {
   "cell_type": "code",
   "execution_count": null,
   "metadata": {},
   "outputs": [],
   "source": []
  }
 ],
 "metadata": {
  "kernelspec": {
   "display_name": "Python 3",
   "language": "python",
   "name": "python3"
  },
  "language_info": {
   "codemirror_mode": {
    "name": "ipython",
    "version": 3
   },
   "file_extension": ".py",
   "mimetype": "text/x-python",
   "name": "python",
   "nbconvert_exporter": "python",
   "pygments_lexer": "ipython3",
   "version": "3.7.3"
  }
 },
 "nbformat": 4,
 "nbformat_minor": 2
}
