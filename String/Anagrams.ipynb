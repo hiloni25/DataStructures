{
 "cells": [
  {
   "cell_type": "code",
   "execution_count": 49,
   "metadata": {},
   "outputs": [],
   "source": [
    "def anagram(s1,s2): #looping and removing each common character from second string\n",
    "    \n",
    "    s2 = s2.replace(\" \",\"\").lower()\n",
    "    s1 = s1.replace(\" \",\"\").lower()\n",
    "    if(len(s1) == len(s2)):\n",
    "        for i in s2:\n",
    "            if s1.find(i) != -1:\n",
    "                s1.replace(i,'')\n",
    "            else:\n",
    "                return False\n",
    "            \n",
    "    else:\n",
    "        return False\n",
    "    \n",
    "    return True"
   ]
  },
  {
   "cell_type": "code",
   "execution_count": 50,
   "metadata": {},
   "outputs": [],
   "source": [
    "def anagram2(s1,s2): #dictinary storing and comparing frequency\n",
    "    dicti = {}\n",
    "    s2 = s2.replace(\" \",\"\").lower()\n",
    "    s1 = s1.replace(\" \",\"\").lower()\n",
    "    if(len(s1) == len(s2)):\n",
    "        for i in s1:\n",
    "            if i in dicti:\n",
    "                dicti[i] += 1\n",
    "            else:\n",
    "                dicti[i] = 1\n",
    "            \n",
    "        #print(dicti)\n",
    "        for j in s2:\n",
    "            if j in dicti and dicti[j] != 0:\n",
    "                dicti[j]-=1\n",
    "            \n",
    "            else:\n",
    "                return False\n",
    "        \n",
    "        #print(dicti)\n",
    "        return True\n",
    "    \n",
    "    return False\n"
   ]
  },
  {
   "cell_type": "code",
   "execution_count": 58,
   "metadata": {},
   "outputs": [],
   "source": [
    "def anagram3(s1,s2): #soring string and seeing if same or not\n",
    "    s1 = s1.replace(' ','').lower()\n",
    "    s2 = s2.replace(' ','').lower()\n",
    "    #print(sorted(s1))\n",
    "    #print(sorted(s2))\n",
    "    if(sorted(s1) == sorted(s2)):\n",
    "        return True\n",
    "    return False\n",
    "        "
   ]
  },
  {
   "cell_type": "code",
   "execution_count": 59,
   "metadata": {},
   "outputs": [
    {
     "name": "stdout",
     "output_type": "stream",
     "text": [
      "['d', 'g', 'o']\n",
      "['d', 'g', 'o']\n"
     ]
    },
    {
     "data": {
      "text/plain": [
       "True"
      ]
     },
     "execution_count": 59,
     "metadata": {},
     "output_type": "execute_result"
    }
   ],
   "source": [
    "anagram3('dog','god')"
   ]
  },
  {
   "cell_type": "code",
   "execution_count": 60,
   "metadata": {},
   "outputs": [
    {
     "name": "stdout",
     "output_type": "stream",
     "text": [
      "['a', 'c', 'd', 'e', 'i', 'l', 'n', 'o', 'o', 's', 't', 't', 'w']\n",
      "['a', 'c', 'd', 'e', 'i', 'l', 'n', 'o', 'o', 's', 't', 't', 'w']\n"
     ]
    },
    {
     "data": {
      "text/plain": [
       "True"
      ]
     },
     "execution_count": 60,
     "metadata": {},
     "output_type": "execute_result"
    }
   ],
   "source": [
    "anagram3('clint eastwood','old west action')"
   ]
  },
  {
   "cell_type": "code",
   "execution_count": 61,
   "metadata": {},
   "outputs": [
    {
     "name": "stdout",
     "output_type": "stream",
     "text": [
      "['a', 'a']\n",
      "['b', 'b']\n"
     ]
    },
    {
     "data": {
      "text/plain": [
       "False"
      ]
     },
     "execution_count": 61,
     "metadata": {},
     "output_type": "execute_result"
    }
   ],
   "source": [
    "anagram3('aa','bb')\n"
   ]
  },
  {
   "cell_type": "code",
   "execution_count": 62,
   "metadata": {},
   "outputs": [
    {
     "name": "stdout",
     "output_type": "stream",
     "text": [
      "ALL TEST CASES PASSED\n"
     ]
    }
   ],
   "source": [
    "\"\"\"\n",
    "RUN THIS CELL TO TEST YOUR SOLUTION\n",
    "\"\"\"\n",
    "from nose.tools import assert_equal\n",
    "\n",
    "class AnagramTest(object):\n",
    "    \n",
    "    def test(self,sol):\n",
    "        assert_equal(sol('go go go','gggooo'),True)\n",
    "        assert_equal(sol('abc','cba'),True)\n",
    "        assert_equal(sol('hi man','hi     man'),True)\n",
    "        assert_equal(sol('aabbcc','aabbc'),False)\n",
    "        assert_equal(sol('123','1 2'),False)\n",
    "        print(\"ALL TEST CASES PASSED\")\n",
    "\n",
    "# Run Tests\n",
    "t = AnagramTest()\n",
    "t.test(anagram)"
   ]
  },
  {
   "cell_type": "code",
   "execution_count": 63,
   "metadata": {},
   "outputs": [
    {
     "name": "stdout",
     "output_type": "stream",
     "text": [
      "{'g': 3, 'o': 3}\n",
      "{'g': 0, 'o': 0}\n",
      "{'a': 1, 'b': 1, 'c': 1}\n",
      "{'a': 0, 'b': 0, 'c': 0}\n",
      "{'h': 1, 'i': 1, 'm': 1, 'a': 1, 'n': 1}\n",
      "{'h': 0, 'i': 0, 'm': 0, 'a': 0, 'n': 0}\n",
      "ALL TEST CASES PASSED\n"
     ]
    }
   ],
   "source": [
    "t.test(anagram2)"
   ]
  },
  {
   "cell_type": "code",
   "execution_count": 64,
   "metadata": {},
   "outputs": [
    {
     "name": "stdout",
     "output_type": "stream",
     "text": [
      "['g', 'g', 'g', 'o', 'o', 'o']\n",
      "['g', 'g', 'g', 'o', 'o', 'o']\n",
      "['a', 'b', 'c']\n",
      "['a', 'b', 'c']\n",
      "['a', 'h', 'i', 'm', 'n']\n",
      "['a', 'h', 'i', 'm', 'n']\n",
      "['a', 'a', 'b', 'b', 'c', 'c']\n",
      "['a', 'a', 'b', 'b', 'c']\n",
      "['1', '2', '3']\n",
      "['1', '2']\n",
      "ALL TEST CASES PASSED\n"
     ]
    }
   ],
   "source": [
    "t.test(anagram3)"
   ]
  },
  {
   "cell_type": "code",
   "execution_count": null,
   "metadata": {},
   "outputs": [],
   "source": []
  }
 ],
 "metadata": {
  "kernelspec": {
   "display_name": "Python 3",
   "language": "python",
   "name": "python3"
  },
  "language_info": {
   "codemirror_mode": {
    "name": "ipython",
    "version": 3
   },
   "file_extension": ".py",
   "mimetype": "text/x-python",
   "name": "python",
   "nbconvert_exporter": "python",
   "pygments_lexer": "ipython3",
   "version": "3.7.3"
  }
 },
 "nbformat": 4,
 "nbformat_minor": 2
}
